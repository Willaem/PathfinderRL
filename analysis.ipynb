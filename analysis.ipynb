{
 "cells": [
  {
   "cell_type": "code",
   "execution_count": 1,
   "metadata": {
    "pycharm": {
     "name": "#%%\n"
    }
   },
   "outputs": [
    {
     "name": "stderr",
     "output_type": "stream",
     "text": [
      "'rm' is not recognized as an internal or external command,\n",
      "operable program or batch file.\n"
     ]
    }
   ],
   "source": [
    "# Clean up old CSV files and re-run\n",
    "!rm actions_*.csv outcomes_*.csv;"
   ]
  },
  {
   "cell_type": "code",
   "execution_count": 2,
   "outputs": [
    {
     "name": "stderr",
     "output_type": "stream",
     "text": [
      "  1%|          | 1/100 [00:11<18:26, 11.18s/it]"
     ]
    },
    {
     "name": "stdout",
     "output_type": "stream",
     "text": [
      "Epoch 0000:  998 ± 2 wins in 6.6 + 4.5 sec\n"
     ]
    },
    {
     "name": "stderr",
     "output_type": "stream",
     "text": [
      "  2%|▏         | 2/100 [00:20<16:21, 10.02s/it]"
     ]
    },
    {
     "name": "stdout",
     "output_type": "stream",
     "text": [
      "Epoch 0001:  1000 ± 0 wins in 5.1 + 4.1 sec\n"
     ]
    },
    {
     "name": "stderr",
     "output_type": "stream",
     "text": [
      "  3%|▎         | 3/100 [00:29<15:35,  9.64s/it]"
     ]
    },
    {
     "name": "stdout",
     "output_type": "stream",
     "text": [
      "Epoch 0002:  998 ± 2 wins in 4.9 + 4.2 sec\n"
     ]
    },
    {
     "name": "stderr",
     "output_type": "stream",
     "text": [
      "  4%|▍         | 4/100 [00:38<14:57,  9.35s/it]"
     ]
    },
    {
     "name": "stdout",
     "output_type": "stream",
     "text": [
      "Epoch 0003:  1000 ± 0 wins in 4.8 + 4.1 sec\n"
     ]
    },
    {
     "name": "stderr",
     "output_type": "stream",
     "text": [
      "  5%|▌         | 5/100 [00:47<14:25,  9.11s/it]"
     ]
    },
    {
     "name": "stdout",
     "output_type": "stream",
     "text": [
      "Epoch 0004:  1000 ± 0 wins in 4.6 + 4.1 sec\n"
     ]
    },
    {
     "name": "stderr",
     "output_type": "stream",
     "text": [
      "  6%|▌         | 6/100 [00:55<14:01,  8.95s/it]"
     ]
    },
    {
     "name": "stdout",
     "output_type": "stream",
     "text": [
      "Epoch 0005:  998 ± 3 wins in 4.5 + 4.1 sec\n"
     ]
    },
    {
     "name": "stderr",
     "output_type": "stream",
     "text": [
      "  7%|▋         | 7/100 [01:04<13:44,  8.86s/it]"
     ]
    },
    {
     "name": "stdout",
     "output_type": "stream",
     "text": [
      "Epoch 0006:  999 ± 2 wins in 4.6 + 4.1 sec\n"
     ]
    },
    {
     "name": "stderr",
     "output_type": "stream",
     "text": [
      "  8%|▊         | 8/100 [01:13<13:32,  8.83s/it]"
     ]
    },
    {
     "name": "stdout",
     "output_type": "stream",
     "text": [
      "Epoch 0007:  1000 ± 0 wins in 4.7 + 4.1 sec\n"
     ]
    },
    {
     "name": "stderr",
     "output_type": "stream",
     "text": [
      "  9%|▉         | 9/100 [01:22<13:22,  8.82s/it]"
     ]
    },
    {
     "name": "stdout",
     "output_type": "stream",
     "text": [
      "Epoch 0008:  999 ± 2 wins in 4.7 + 4.1 sec\n"
     ]
    },
    {
     "name": "stderr",
     "output_type": "stream",
     "text": [
      " 10%|█         | 10/100 [01:30<13:13,  8.81s/it]"
     ]
    },
    {
     "name": "stdout",
     "output_type": "stream",
     "text": [
      "Epoch 0009:  1000 ± 0 wins in 4.7 + 4.1 sec\n"
     ]
    },
    {
     "name": "stderr",
     "output_type": "stream",
     "text": [
      " 11%|█         | 11/100 [01:39<12:59,  8.76s/it]"
     ]
    },
    {
     "name": "stdout",
     "output_type": "stream",
     "text": [
      "Epoch 0010:  1000 ± 0 wins in 4.6 + 4.0 sec\n"
     ]
    },
    {
     "name": "stderr",
     "output_type": "stream",
     "text": [
      " 12%|█▏        | 12/100 [01:48<12:51,  8.76s/it]"
     ]
    },
    {
     "name": "stdout",
     "output_type": "stream",
     "text": [
      "Epoch 0011:  1000 ± 0 wins in 4.7 + 4.0 sec\n"
     ]
    },
    {
     "name": "stderr",
     "output_type": "stream",
     "text": [
      " 13%|█▎        | 13/100 [01:56<12:36,  8.70s/it]"
     ]
    },
    {
     "name": "stdout",
     "output_type": "stream",
     "text": [
      "Epoch 0012:  999 ± 2 wins in 4.4 + 4.1 sec\n"
     ]
    },
    {
     "name": "stderr",
     "output_type": "stream",
     "text": [
      " 14%|█▍        | 14/100 [02:05<12:26,  8.68s/it]"
     ]
    },
    {
     "name": "stdout",
     "output_type": "stream",
     "text": [
      "Epoch 0013:  1000 ± 0 wins in 4.7 + 4.0 sec\n"
     ]
    },
    {
     "name": "stderr",
     "output_type": "stream",
     "text": [
      " 15%|█▌        | 15/100 [02:14<12:21,  8.72s/it]"
     ]
    },
    {
     "name": "stdout",
     "output_type": "stream",
     "text": [
      "Epoch 0014:  1000 ± 0 wins in 4.7 + 4.2 sec\n"
     ]
    },
    {
     "name": "stderr",
     "output_type": "stream",
     "text": [
      " 16%|█▌        | 16/100 [02:22<12:11,  8.70s/it]"
     ]
    },
    {
     "name": "stdout",
     "output_type": "stream",
     "text": [
      "Epoch 0015:  1000 ± 0 wins in 4.6 + 4.1 sec\n"
     ]
    },
    {
     "name": "stderr",
     "output_type": "stream",
     "text": [
      " 17%|█▋        | 17/100 [02:31<11:55,  8.62s/it]"
     ]
    },
    {
     "name": "stdout",
     "output_type": "stream",
     "text": [
      "Epoch 0016:  999 ± 2 wins in 4.5 + 4.0 sec\n"
     ]
    },
    {
     "name": "stderr",
     "output_type": "stream",
     "text": [
      " 18%|█▊        | 18/100 [02:39<11:47,  8.63s/it]"
     ]
    },
    {
     "name": "stdout",
     "output_type": "stream",
     "text": [
      "Epoch 0017:  1000 ± 0 wins in 4.6 + 4.1 sec\n"
     ]
    },
    {
     "name": "stderr",
     "output_type": "stream",
     "text": [
      " 19%|█▉        | 19/100 [02:48<11:38,  8.62s/it]"
     ]
    },
    {
     "name": "stdout",
     "output_type": "stream",
     "text": [
      "Epoch 0018:  1000 ± 0 wins in 4.5 + 4.1 sec\n"
     ]
    },
    {
     "name": "stderr",
     "output_type": "stream",
     "text": [
      " 20%|██        | 20/100 [02:57<11:27,  8.60s/it]"
     ]
    },
    {
     "name": "stdout",
     "output_type": "stream",
     "text": [
      "Epoch 0019:  999 ± 2 wins in 4.5 + 4.0 sec\n"
     ]
    },
    {
     "name": "stderr",
     "output_type": "stream",
     "text": [
      " 21%|██        | 21/100 [03:05<11:20,  8.62s/it]"
     ]
    },
    {
     "name": "stdout",
     "output_type": "stream",
     "text": [
      "Epoch 0020:  1000 ± 0 wins in 4.6 + 4.1 sec\n"
     ]
    },
    {
     "name": "stderr",
     "output_type": "stream",
     "text": [
      " 22%|██▏       | 22/100 [03:14<11:10,  8.60s/it]"
     ]
    },
    {
     "name": "stdout",
     "output_type": "stream",
     "text": [
      "Epoch 0021:  1000 ± 0 wins in 4.6 + 4.0 sec\n"
     ]
    },
    {
     "name": "stderr",
     "output_type": "stream",
     "text": [
      " 23%|██▎       | 23/100 [03:23<11:04,  8.63s/it]"
     ]
    },
    {
     "name": "stdout",
     "output_type": "stream",
     "text": [
      "Epoch 0022:  1000 ± 0 wins in 4.6 + 4.1 sec\n"
     ]
    },
    {
     "name": "stderr",
     "output_type": "stream",
     "text": [
      " 24%|██▍       | 24/100 [03:31<10:57,  8.65s/it]"
     ]
    },
    {
     "name": "stdout",
     "output_type": "stream",
     "text": [
      "Epoch 0023:  1000 ± 0 wins in 4.6 + 4.1 sec\n"
     ]
    },
    {
     "name": "stderr",
     "output_type": "stream",
     "text": [
      " 25%|██▌       | 25/100 [03:40<10:47,  8.63s/it]"
     ]
    },
    {
     "name": "stdout",
     "output_type": "stream",
     "text": [
      "Epoch 0024:  1000 ± 0 wins in 4.5 + 4.0 sec\n"
     ]
    },
    {
     "name": "stderr",
     "output_type": "stream",
     "text": [
      " 26%|██▌       | 26/100 [03:49<10:40,  8.65s/it]"
     ]
    },
    {
     "name": "stdout",
     "output_type": "stream",
     "text": [
      "Epoch 0025:  1000 ± 0 wins in 4.6 + 4.1 sec\n"
     ]
    },
    {
     "name": "stderr",
     "output_type": "stream",
     "text": [
      " 27%|██▋       | 27/100 [03:57<10:28,  8.61s/it]"
     ]
    },
    {
     "name": "stdout",
     "output_type": "stream",
     "text": [
      "Epoch 0026:  1000 ± 0 wins in 4.5 + 4.0 sec\n"
     ]
    },
    {
     "name": "stderr",
     "output_type": "stream",
     "text": [
      " 28%|██▊       | 28/100 [04:06<10:18,  8.59s/it]"
     ]
    },
    {
     "name": "stdout",
     "output_type": "stream",
     "text": [
      "Epoch 0027:  1000 ± 0 wins in 4.5 + 4.0 sec\n"
     ]
    },
    {
     "name": "stderr",
     "output_type": "stream",
     "text": [
      " 29%|██▉       | 29/100 [04:14<10:15,  8.66s/it]"
     ]
    },
    {
     "name": "stdout",
     "output_type": "stream",
     "text": [
      "Epoch 0028:  1000 ± 0 wins in 4.6 + 4.3 sec\n"
     ]
    },
    {
     "name": "stderr",
     "output_type": "stream",
     "text": [
      " 30%|███       | 30/100 [04:23<10:10,  8.72s/it]"
     ]
    },
    {
     "name": "stdout",
     "output_type": "stream",
     "text": [
      "Epoch 0029:  1000 ± 0 wins in 4.7 + 4.1 sec\n"
     ]
    },
    {
     "name": "stderr",
     "output_type": "stream",
     "text": [
      " 31%|███       | 31/100 [04:32<10:00,  8.70s/it]"
     ]
    },
    {
     "name": "stdout",
     "output_type": "stream",
     "text": [
      "Epoch 0030:  1000 ± 0 wins in 4.6 + 4.0 sec\n"
     ]
    },
    {
     "name": "stderr",
     "output_type": "stream",
     "text": [
      " 32%|███▏      | 32/100 [04:41<09:59,  8.82s/it]"
     ]
    },
    {
     "name": "stdout",
     "output_type": "stream",
     "text": [
      "Epoch 0031:  1000 ± 0 wins in 4.6 + 4.5 sec\n"
     ]
    },
    {
     "name": "stderr",
     "output_type": "stream",
     "text": [
      " 33%|███▎      | 33/100 [04:50<09:53,  8.85s/it]"
     ]
    },
    {
     "name": "stdout",
     "output_type": "stream",
     "text": [
      "Epoch 0032:  1000 ± 0 wins in 4.9 + 4.0 sec\n"
     ]
    },
    {
     "name": "stderr",
     "output_type": "stream",
     "text": [
      " 34%|███▍      | 34/100 [04:59<09:40,  8.79s/it]"
     ]
    },
    {
     "name": "stdout",
     "output_type": "stream",
     "text": [
      "Epoch 0033:  1000 ± 0 wins in 4.6 + 4.0 sec\n"
     ]
    },
    {
     "name": "stderr",
     "output_type": "stream",
     "text": [
      " 35%|███▌      | 35/100 [05:07<09:25,  8.70s/it]"
     ]
    },
    {
     "name": "stdout",
     "output_type": "stream",
     "text": [
      "Epoch 0034:  1000 ± 0 wins in 4.4 + 4.1 sec\n"
     ]
    },
    {
     "name": "stderr",
     "output_type": "stream",
     "text": [
      " 36%|███▌      | 36/100 [05:16<09:17,  8.71s/it]"
     ]
    },
    {
     "name": "stdout",
     "output_type": "stream",
     "text": [
      "Epoch 0035:  1000 ± 0 wins in 4.7 + 4.0 sec\n"
     ]
    },
    {
     "name": "stderr",
     "output_type": "stream",
     "text": [
      " 37%|███▋      | 37/100 [05:24<09:07,  8.69s/it]"
     ]
    },
    {
     "name": "stdout",
     "output_type": "stream",
     "text": [
      "Epoch 0036:  1000 ± 0 wins in 4.6 + 4.1 sec\n"
     ]
    },
    {
     "name": "stderr",
     "output_type": "stream",
     "text": [
      " 38%|███▊      | 38/100 [05:33<09:00,  8.72s/it]"
     ]
    },
    {
     "name": "stdout",
     "output_type": "stream",
     "text": [
      "Epoch 0037:  1000 ± 0 wins in 4.6 + 4.2 sec\n"
     ]
    },
    {
     "name": "stderr",
     "output_type": "stream",
     "text": [
      " 39%|███▉      | 39/100 [05:42<08:49,  8.68s/it]"
     ]
    },
    {
     "name": "stdout",
     "output_type": "stream",
     "text": [
      "Epoch 0038:  1000 ± 0 wins in 4.6 + 4.0 sec\n"
     ]
    },
    {
     "name": "stderr",
     "output_type": "stream",
     "text": [
      " 40%|████      | 40/100 [05:50<08:39,  8.66s/it]"
     ]
    },
    {
     "name": "stdout",
     "output_type": "stream",
     "text": [
      "Epoch 0039:  998 ± 2 wins in 4.6 + 4.0 sec\n"
     ]
    },
    {
     "name": "stderr",
     "output_type": "stream",
     "text": [
      " 41%|████      | 41/100 [05:59<08:31,  8.67s/it]"
     ]
    },
    {
     "name": "stdout",
     "output_type": "stream",
     "text": [
      "Epoch 0040:  1000 ± 0 wins in 4.6 + 4.1 sec\n"
     ]
    },
    {
     "name": "stderr",
     "output_type": "stream",
     "text": [
      " 42%|████▏     | 42/100 [06:08<08:20,  8.63s/it]"
     ]
    },
    {
     "name": "stdout",
     "output_type": "stream",
     "text": [
      "Epoch 0041:  999 ± 2 wins in 4.5 + 4.0 sec\n"
     ]
    },
    {
     "name": "stderr",
     "output_type": "stream",
     "text": [
      " 43%|████▎     | 43/100 [06:16<08:10,  8.61s/it]"
     ]
    },
    {
     "name": "stdout",
     "output_type": "stream",
     "text": [
      "Epoch 0042:  1000 ± 0 wins in 4.6 + 4.0 sec\n"
     ]
    },
    {
     "name": "stderr",
     "output_type": "stream",
     "text": [
      " 44%|████▍     | 44/100 [06:25<08:00,  8.58s/it]"
     ]
    },
    {
     "name": "stdout",
     "output_type": "stream",
     "text": [
      "Epoch 0043:  1000 ± 0 wins in 4.6 + 4.0 sec\n"
     ]
    },
    {
     "name": "stderr",
     "output_type": "stream",
     "text": [
      " 45%|████▌     | 45/100 [06:33<07:51,  8.58s/it]"
     ]
    },
    {
     "name": "stdout",
     "output_type": "stream",
     "text": [
      "Epoch 0044:  1000 ± 0 wins in 4.5 + 4.1 sec\n"
     ]
    },
    {
     "name": "stderr",
     "output_type": "stream",
     "text": [
      " 46%|████▌     | 46/100 [06:42<07:43,  8.57s/it]"
     ]
    },
    {
     "name": "stdout",
     "output_type": "stream",
     "text": [
      "Epoch 0045:  1000 ± 0 wins in 4.6 + 4.0 sec\n"
     ]
    },
    {
     "name": "stderr",
     "output_type": "stream",
     "text": [
      " 47%|████▋     | 47/100 [06:51<07:36,  8.60s/it]"
     ]
    },
    {
     "name": "stdout",
     "output_type": "stream",
     "text": [
      "Epoch 0046:  1000 ± 0 wins in 4.6 + 4.1 sec\n"
     ]
    },
    {
     "name": "stderr",
     "output_type": "stream",
     "text": [
      " 48%|████▊     | 48/100 [06:59<07:28,  8.63s/it]"
     ]
    },
    {
     "name": "stdout",
     "output_type": "stream",
     "text": [
      "Epoch 0047:  999 ± 2 wins in 4.6 + 4.1 sec\n"
     ]
    },
    {
     "name": "stderr",
     "output_type": "stream",
     "text": [
      " 49%|████▉     | 49/100 [07:08<07:18,  8.61s/it]"
     ]
    },
    {
     "name": "stdout",
     "output_type": "stream",
     "text": [
      "Epoch 0048:  1000 ± 0 wins in 4.6 + 4.0 sec\n"
     ]
    },
    {
     "name": "stderr",
     "output_type": "stream",
     "text": [
      " 50%|█████     | 50/100 [07:17<07:11,  8.62s/it]"
     ]
    },
    {
     "name": "stdout",
     "output_type": "stream",
     "text": [
      "Epoch 0049:  1000 ± 0 wins in 4.6 + 4.1 sec\n"
     ]
    },
    {
     "name": "stderr",
     "output_type": "stream",
     "text": [
      " 51%|█████     | 51/100 [07:25<07:02,  8.62s/it]"
     ]
    },
    {
     "name": "stdout",
     "output_type": "stream",
     "text": [
      "Epoch 0050:  999 ± 2 wins in 4.6 + 4.0 sec\n"
     ]
    },
    {
     "name": "stderr",
     "output_type": "stream",
     "text": [
      " 52%|█████▏    | 52/100 [07:34<06:53,  8.62s/it]"
     ]
    },
    {
     "name": "stdout",
     "output_type": "stream",
     "text": [
      "Epoch 0051:  998 ± 2 wins in 4.6 + 4.0 sec\n"
     ]
    },
    {
     "name": "stderr",
     "output_type": "stream",
     "text": [
      " 53%|█████▎    | 53/100 [07:42<06:44,  8.60s/it]"
     ]
    },
    {
     "name": "stdout",
     "output_type": "stream",
     "text": [
      "Epoch 0052:  1000 ± 0 wins in 4.5 + 4.1 sec\n"
     ]
    },
    {
     "name": "stderr",
     "output_type": "stream",
     "text": [
      " 54%|█████▍    | 54/100 [07:51<06:36,  8.62s/it]"
     ]
    },
    {
     "name": "stdout",
     "output_type": "stream",
     "text": [
      "Epoch 0053:  1000 ± 0 wins in 4.6 + 4.0 sec\n"
     ]
    },
    {
     "name": "stderr",
     "output_type": "stream",
     "text": [
      " 55%|█████▌    | 55/100 [07:59<06:26,  8.58s/it]"
     ]
    },
    {
     "name": "stdout",
     "output_type": "stream",
     "text": [
      "Epoch 0054:  999 ± 2 wins in 4.5 + 4.0 sec\n"
     ]
    },
    {
     "name": "stderr",
     "output_type": "stream",
     "text": [
      " 56%|█████▌    | 56/100 [08:08<06:15,  8.54s/it]"
     ]
    },
    {
     "name": "stdout",
     "output_type": "stream",
     "text": [
      "Epoch 0055:  1000 ± 0 wins in 4.5 + 4.0 sec\n"
     ]
    },
    {
     "name": "stderr",
     "output_type": "stream",
     "text": [
      " 57%|█████▋    | 57/100 [08:17<06:13,  8.68s/it]"
     ]
    },
    {
     "name": "stdout",
     "output_type": "stream",
     "text": [
      "Epoch 0056:  1000 ± 0 wins in 4.8 + 4.2 sec\n"
     ]
    },
    {
     "name": "stderr",
     "output_type": "stream",
     "text": [
      " 58%|█████▊    | 58/100 [08:25<06:01,  8.60s/it]"
     ]
    },
    {
     "name": "stdout",
     "output_type": "stream",
     "text": [
      "Epoch 0057:  1000 ± 0 wins in 4.4 + 4.0 sec\n"
     ]
    },
    {
     "name": "stderr",
     "output_type": "stream",
     "text": [
      " 59%|█████▉    | 59/100 [08:34<05:50,  8.55s/it]"
     ]
    },
    {
     "name": "stdout",
     "output_type": "stream",
     "text": [
      "Epoch 0058:  1000 ± 0 wins in 4.5 + 3.9 sec\n"
     ]
    },
    {
     "name": "stderr",
     "output_type": "stream",
     "text": [
      " 60%|██████    | 60/100 [08:42<05:41,  8.55s/it]"
     ]
    },
    {
     "name": "stdout",
     "output_type": "stream",
     "text": [
      "Epoch 0059:  999 ± 2 wins in 4.5 + 4.0 sec\n"
     ]
    },
    {
     "name": "stderr",
     "output_type": "stream",
     "text": [
      " 61%|██████    | 61/100 [08:51<05:32,  8.52s/it]"
     ]
    },
    {
     "name": "stdout",
     "output_type": "stream",
     "text": [
      "Epoch 0060:  999 ± 2 wins in 4.5 + 4.0 sec\n"
     ]
    },
    {
     "name": "stderr",
     "output_type": "stream",
     "text": [
      " 62%|██████▏   | 62/100 [08:59<05:25,  8.57s/it]"
     ]
    },
    {
     "name": "stdout",
     "output_type": "stream",
     "text": [
      "Epoch 0061:  1000 ± 0 wins in 4.5 + 4.1 sec\n"
     ]
    },
    {
     "name": "stderr",
     "output_type": "stream",
     "text": [
      " 63%|██████▎   | 63/100 [09:08<05:17,  8.58s/it]"
     ]
    },
    {
     "name": "stdout",
     "output_type": "stream",
     "text": [
      "Epoch 0062:  999 ± 2 wins in 4.6 + 4.0 sec\n"
     ]
    },
    {
     "name": "stderr",
     "output_type": "stream",
     "text": [
      " 64%|██████▍   | 64/100 [09:16<05:07,  8.53s/it]"
     ]
    },
    {
     "name": "stdout",
     "output_type": "stream",
     "text": [
      "Epoch 0063:  1000 ± 0 wins in 4.4 + 4.0 sec\n"
     ]
    },
    {
     "name": "stderr",
     "output_type": "stream",
     "text": [
      " 65%|██████▌   | 65/100 [09:25<04:57,  8.49s/it]"
     ]
    },
    {
     "name": "stdout",
     "output_type": "stream",
     "text": [
      "Epoch 0064:  1000 ± 0 wins in 4.4 + 3.9 sec\n"
     ]
    },
    {
     "name": "stderr",
     "output_type": "stream",
     "text": [
      " 66%|██████▌   | 66/100 [09:34<04:51,  8.57s/it]"
     ]
    },
    {
     "name": "stdout",
     "output_type": "stream",
     "text": [
      "Epoch 0065:  1000 ± 0 wins in 4.6 + 4.1 sec\n"
     ]
    },
    {
     "name": "stderr",
     "output_type": "stream",
     "text": [
      " 67%|██████▋   | 67/100 [09:42<04:44,  8.62s/it]"
     ]
    },
    {
     "name": "stdout",
     "output_type": "stream",
     "text": [
      "Epoch 0066:  1000 ± 0 wins in 4.6 + 4.1 sec\n"
     ]
    },
    {
     "name": "stderr",
     "output_type": "stream",
     "text": [
      " 68%|██████▊   | 68/100 [09:51<04:35,  8.61s/it]"
     ]
    },
    {
     "name": "stdout",
     "output_type": "stream",
     "text": [
      "Epoch 0067:  1000 ± 0 wins in 4.6 + 4.0 sec\n"
     ]
    },
    {
     "name": "stderr",
     "output_type": "stream",
     "text": [
      " 69%|██████▉   | 69/100 [10:00<04:27,  8.63s/it]"
     ]
    },
    {
     "name": "stdout",
     "output_type": "stream",
     "text": [
      "Epoch 0068:  1000 ± 0 wins in 4.5 + 4.1 sec\n"
     ]
    },
    {
     "name": "stderr",
     "output_type": "stream",
     "text": [
      " 70%|███████   | 70/100 [10:08<04:17,  8.59s/it]"
     ]
    },
    {
     "name": "stdout",
     "output_type": "stream",
     "text": [
      "Epoch 0069:  1000 ± 0 wins in 4.5 + 4.0 sec\n"
     ]
    },
    {
     "name": "stderr",
     "output_type": "stream",
     "text": [
      " 71%|███████   | 71/100 [10:17<04:09,  8.60s/it]"
     ]
    },
    {
     "name": "stdout",
     "output_type": "stream",
     "text": [
      "Epoch 0070:  1000 ± 0 wins in 4.6 + 4.0 sec\n"
     ]
    },
    {
     "name": "stderr",
     "output_type": "stream",
     "text": [
      " 72%|███████▏  | 72/100 [10:26<04:02,  8.66s/it]"
     ]
    },
    {
     "name": "stdout",
     "output_type": "stream",
     "text": [
      "Epoch 0071:  1000 ± 0 wins in 4.7 + 4.1 sec\n"
     ]
    },
    {
     "name": "stderr",
     "output_type": "stream",
     "text": [
      " 73%|███████▎  | 73/100 [10:34<03:52,  8.61s/it]"
     ]
    },
    {
     "name": "stdout",
     "output_type": "stream",
     "text": [
      "Epoch 0072:  1000 ± 0 wins in 4.6 + 3.9 sec\n"
     ]
    },
    {
     "name": "stderr",
     "output_type": "stream",
     "text": [
      " 74%|███████▍  | 74/100 [10:43<03:44,  8.62s/it]"
     ]
    },
    {
     "name": "stdout",
     "output_type": "stream",
     "text": [
      "Epoch 0073:  999 ± 2 wins in 4.5 + 4.1 sec\n"
     ]
    },
    {
     "name": "stderr",
     "output_type": "stream",
     "text": [
      " 75%|███████▌  | 75/100 [10:51<03:34,  8.59s/it]"
     ]
    },
    {
     "name": "stdout",
     "output_type": "stream",
     "text": [
      "Epoch 0074:  1000 ± 0 wins in 4.5 + 4.0 sec\n"
     ]
    },
    {
     "name": "stderr",
     "output_type": "stream",
     "text": [
      " 76%|███████▌  | 76/100 [11:00<03:26,  8.61s/it]"
     ]
    },
    {
     "name": "stdout",
     "output_type": "stream",
     "text": [
      "Epoch 0075:  1000 ± 0 wins in 4.7 + 4.0 sec\n"
     ]
    },
    {
     "name": "stderr",
     "output_type": "stream",
     "text": [
      " 77%|███████▋  | 77/100 [11:08<03:16,  8.53s/it]"
     ]
    },
    {
     "name": "stdout",
     "output_type": "stream",
     "text": [
      "Epoch 0076:  1000 ± 0 wins in 4.3 + 4.0 sec\n"
     ]
    },
    {
     "name": "stderr",
     "output_type": "stream",
     "text": [
      " 78%|███████▊  | 78/100 [11:17<03:07,  8.52s/it]"
     ]
    },
    {
     "name": "stdout",
     "output_type": "stream",
     "text": [
      "Epoch 0077:  998 ± 2 wins in 4.5 + 4.0 sec\n"
     ]
    },
    {
     "name": "stderr",
     "output_type": "stream",
     "text": [
      " 79%|███████▉  | 79/100 [11:25<02:59,  8.56s/it]"
     ]
    },
    {
     "name": "stdout",
     "output_type": "stream",
     "text": [
      "Epoch 0078:  1000 ± 0 wins in 4.5 + 4.2 sec\n"
     ]
    },
    {
     "name": "stderr",
     "output_type": "stream",
     "text": [
      " 80%|████████  | 80/100 [11:34<02:52,  8.63s/it]"
     ]
    },
    {
     "name": "stdout",
     "output_type": "stream",
     "text": [
      "Epoch 0079:  1000 ± 0 wins in 4.7 + 4.1 sec\n"
     ]
    },
    {
     "name": "stderr",
     "output_type": "stream",
     "text": [
      " 81%|████████  | 81/100 [11:43<02:43,  8.58s/it]"
     ]
    },
    {
     "name": "stdout",
     "output_type": "stream",
     "text": [
      "Epoch 0080:  1000 ± 0 wins in 4.4 + 4.0 sec\n"
     ]
    },
    {
     "name": "stderr",
     "output_type": "stream",
     "text": [
      " 82%|████████▏ | 82/100 [11:51<02:33,  8.55s/it]"
     ]
    },
    {
     "name": "stdout",
     "output_type": "stream",
     "text": [
      "Epoch 0081:  998 ± 2 wins in 4.5 + 4.0 sec\n"
     ]
    },
    {
     "name": "stderr",
     "output_type": "stream",
     "text": [
      " 83%|████████▎ | 83/100 [12:00<02:24,  8.53s/it]"
     ]
    },
    {
     "name": "stdout",
     "output_type": "stream",
     "text": [
      "Epoch 0082:  1000 ± 0 wins in 4.4 + 4.0 sec\n"
     ]
    },
    {
     "name": "stderr",
     "output_type": "stream",
     "text": [
      " 84%|████████▍ | 84/100 [12:08<02:17,  8.61s/it]"
     ]
    },
    {
     "name": "stdout",
     "output_type": "stream",
     "text": [
      "Epoch 0083:  1000 ± 0 wins in 4.7 + 4.1 sec\n"
     ]
    },
    {
     "name": "stderr",
     "output_type": "stream",
     "text": [
      " 85%|████████▌ | 85/100 [12:17<02:08,  8.55s/it]"
     ]
    },
    {
     "name": "stdout",
     "output_type": "stream",
     "text": [
      "Epoch 0084:  999 ± 2 wins in 4.5 + 3.9 sec\n"
     ]
    },
    {
     "name": "stderr",
     "output_type": "stream",
     "text": [
      " 86%|████████▌ | 86/100 [12:25<01:58,  8.49s/it]"
     ]
    },
    {
     "name": "stdout",
     "output_type": "stream",
     "text": [
      "Epoch 0085:  1000 ± 0 wins in 4.4 + 4.0 sec\n"
     ]
    },
    {
     "name": "stderr",
     "output_type": "stream",
     "text": [
      " 87%|████████▋ | 87/100 [12:34<01:50,  8.51s/it]"
     ]
    },
    {
     "name": "stdout",
     "output_type": "stream",
     "text": [
      "Epoch 0086:  998 ± 2 wins in 4.5 + 4.0 sec\n"
     ]
    },
    {
     "name": "stderr",
     "output_type": "stream",
     "text": [
      " 88%|████████▊ | 88/100 [12:42<01:42,  8.55s/it]"
     ]
    },
    {
     "name": "stdout",
     "output_type": "stream",
     "text": [
      "Epoch 0087:  1000 ± 0 wins in 4.6 + 4.1 sec\n"
     ]
    },
    {
     "name": "stderr",
     "output_type": "stream",
     "text": [
      " 89%|████████▉ | 89/100 [12:51<01:33,  8.52s/it]"
     ]
    },
    {
     "name": "stdout",
     "output_type": "stream",
     "text": [
      "Epoch 0088:  1000 ± 0 wins in 4.5 + 3.9 sec\n"
     ]
    },
    {
     "name": "stderr",
     "output_type": "stream",
     "text": [
      " 90%|█████████ | 90/100 [12:59<01:25,  8.55s/it]"
     ]
    },
    {
     "name": "stdout",
     "output_type": "stream",
     "text": [
      "Epoch 0089:  1000 ± 0 wins in 4.6 + 4.0 sec\n"
     ]
    },
    {
     "name": "stderr",
     "output_type": "stream",
     "text": [
      " 91%|█████████ | 91/100 [13:08<01:16,  8.54s/it]"
     ]
    },
    {
     "name": "stdout",
     "output_type": "stream",
     "text": [
      "Epoch 0090:  1000 ± 0 wins in 4.6 + 4.0 sec\n"
     ]
    },
    {
     "name": "stderr",
     "output_type": "stream",
     "text": [
      " 92%|█████████▏| 92/100 [13:16<01:08,  8.51s/it]"
     ]
    },
    {
     "name": "stdout",
     "output_type": "stream",
     "text": [
      "Epoch 0091:  1000 ± 0 wins in 4.4 + 4.0 sec\n"
     ]
    },
    {
     "name": "stderr",
     "output_type": "stream",
     "text": [
      " 93%|█████████▎| 93/100 [13:25<00:59,  8.49s/it]"
     ]
    },
    {
     "name": "stdout",
     "output_type": "stream",
     "text": [
      "Epoch 0092:  1000 ± 0 wins in 4.5 + 3.9 sec\n"
     ]
    },
    {
     "name": "stderr",
     "output_type": "stream",
     "text": [
      " 94%|█████████▍| 94/100 [13:33<00:51,  8.50s/it]"
     ]
    },
    {
     "name": "stdout",
     "output_type": "stream",
     "text": [
      "Epoch 0093:  1000 ± 0 wins in 4.5 + 4.0 sec\n"
     ]
    },
    {
     "name": "stderr",
     "output_type": "stream",
     "text": [
      " 95%|█████████▌| 95/100 [13:42<00:42,  8.53s/it]"
     ]
    },
    {
     "name": "stdout",
     "output_type": "stream",
     "text": [
      "Epoch 0094:  1000 ± 0 wins in 4.6 + 4.0 sec\n"
     ]
    },
    {
     "name": "stderr",
     "output_type": "stream",
     "text": [
      " 96%|█████████▌| 96/100 [13:51<00:34,  8.58s/it]"
     ]
    },
    {
     "name": "stdout",
     "output_type": "stream",
     "text": [
      "Epoch 0095:  999 ± 2 wins in 4.6 + 4.1 sec\n"
     ]
    },
    {
     "name": "stderr",
     "output_type": "stream",
     "text": [
      " 97%|█████████▋| 97/100 [13:59<00:25,  8.59s/it]"
     ]
    },
    {
     "name": "stdout",
     "output_type": "stream",
     "text": [
      "Epoch 0096:  1000 ± 0 wins in 4.6 + 4.0 sec\n"
     ]
    },
    {
     "name": "stderr",
     "output_type": "stream",
     "text": [
      " 98%|█████████▊| 98/100 [14:08<00:17,  8.52s/it]"
     ]
    },
    {
     "name": "stdout",
     "output_type": "stream",
     "text": [
      "Epoch 0097:  1000 ± 0 wins in 4.4 + 4.0 sec\n"
     ]
    },
    {
     "name": "stderr",
     "output_type": "stream",
     "text": [
      " 99%|█████████▉| 99/100 [14:16<00:08,  8.52s/it]"
     ]
    },
    {
     "name": "stdout",
     "output_type": "stream",
     "text": [
      "Epoch 0098:  1000 ± 0 wins in 4.5 + 4.0 sec\n"
     ]
    },
    {
     "name": "stderr",
     "output_type": "stream",
     "text": [
      "100%|██████████| 100/100 [14:25<00:00,  8.65s/it]"
     ]
    },
    {
     "name": "stdout",
     "output_type": "stream",
     "text": [
      "Epoch 0099:  1000 ± 0 wins in 4.6 + 4.0 sec\n"
     ]
    },
    {
     "name": "stderr",
     "output_type": "stream",
     "text": [
      "\n"
     ]
    }
   ],
   "source": [
    "from battle import main\n",
    "main()"
   ],
   "metadata": {
    "collapsed": false,
    "pycharm": {
     "name": "#%%\n"
    }
   }
  },
  {
   "cell_type": "code",
   "execution_count": 3,
   "metadata": {
    "pycharm": {
     "name": "#%%\n"
    }
   },
   "outputs": [],
   "source": [
    "from pathlib import Path\n",
    "import numpy as np\n",
    "import pandas as pd\n",
    "import matplotlib.pyplot as plt\n",
    "import plotnine as pn\n",
    "rnd = np.random.default_rng()"
   ]
  },
  {
   "cell_type": "code",
   "execution_count": 4,
   "metadata": {
    "pycharm": {
     "name": "#%%\n"
    }
   },
   "outputs": [
    {
     "data": {
      "text/plain": "   epoch  encounter  num_rounds      actor      team  team_win  max_hp  \\\n0      0          0          10   Goblin 3  monsters     False       8   \n1      0          0          10  Fighter 1       PCs      True      20   \n2      0          0          10   Goblin 1  monsters     False      11   \n3      0          0          10   Goblin 2  monsters     False       2   \n4      0          1           4  Fighter 1       PCs      True      20   \n\n   final_hp                 csv  \n0         0  outcomes_15780.csv  \n1        20  outcomes_15780.csv  \n2         0  outcomes_15780.csv  \n3         0  outcomes_15780.csv  \n4        20  outcomes_15780.csv  ",
      "text/html": "<div>\n<style scoped>\n    .dataframe tbody tr th:only-of-type {\n        vertical-align: middle;\n    }\n\n    .dataframe tbody tr th {\n        vertical-align: top;\n    }\n\n    .dataframe thead th {\n        text-align: right;\n    }\n</style>\n<table border=\"1\" class=\"dataframe\">\n  <thead>\n    <tr style=\"text-align: right;\">\n      <th></th>\n      <th>epoch</th>\n      <th>encounter</th>\n      <th>num_rounds</th>\n      <th>actor</th>\n      <th>team</th>\n      <th>team_win</th>\n      <th>max_hp</th>\n      <th>final_hp</th>\n      <th>csv</th>\n    </tr>\n  </thead>\n  <tbody>\n    <tr>\n      <th>0</th>\n      <td>0</td>\n      <td>0</td>\n      <td>10</td>\n      <td>Goblin 3</td>\n      <td>monsters</td>\n      <td>False</td>\n      <td>8</td>\n      <td>0</td>\n      <td>outcomes_15780.csv</td>\n    </tr>\n    <tr>\n      <th>1</th>\n      <td>0</td>\n      <td>0</td>\n      <td>10</td>\n      <td>Fighter 1</td>\n      <td>PCs</td>\n      <td>True</td>\n      <td>20</td>\n      <td>20</td>\n      <td>outcomes_15780.csv</td>\n    </tr>\n    <tr>\n      <th>2</th>\n      <td>0</td>\n      <td>0</td>\n      <td>10</td>\n      <td>Goblin 1</td>\n      <td>monsters</td>\n      <td>False</td>\n      <td>11</td>\n      <td>0</td>\n      <td>outcomes_15780.csv</td>\n    </tr>\n    <tr>\n      <th>3</th>\n      <td>0</td>\n      <td>0</td>\n      <td>10</td>\n      <td>Goblin 2</td>\n      <td>monsters</td>\n      <td>False</td>\n      <td>2</td>\n      <td>0</td>\n      <td>outcomes_15780.csv</td>\n    </tr>\n    <tr>\n      <th>4</th>\n      <td>0</td>\n      <td>1</td>\n      <td>4</td>\n      <td>Fighter 1</td>\n      <td>PCs</td>\n      <td>True</td>\n      <td>20</td>\n      <td>20</td>\n      <td>outcomes_15780.csv</td>\n    </tr>\n  </tbody>\n</table>\n</div>"
     },
     "execution_count": 4,
     "metadata": {},
     "output_type": "execute_result"
    }
   ],
   "source": [
    "def load(p):\n",
    "    df = pd.read_csv(p)\n",
    "    df['csv'] = str(p)\n",
    "    return df\n",
    "\n",
    "df = pd.concat([load(x) for x in Path().glob(\"outcomes_*.csv\") if x.stat().st_size > 1000], ignore_index=True)\n",
    "df.team = np.array(['PCs', 'monsters'])[df.team]\n",
    "df.head()"
   ]
  },
  {
   "cell_type": "markdown",
   "metadata": {
    "pycharm": {
     "name": "#%% md\n"
    }
   },
   "source": [
    "How injured does each actor end up?"
   ]
  },
  {
   "cell_type": "code",
   "execution_count": 5,
   "metadata": {
    "pycharm": {
     "name": "#%%\n"
    }
   },
   "outputs": [
    {
     "data": {
      "text/plain": "<Figure size 432x288 with 4 Axes>",
      "image/png": "[encoded data removed]"
     },
     "metadata": {},
     "output_type": "display_data"
    },
    {
     "data": {
      "text/plain": "<ggplot: (176943164763)>"
     },
     "execution_count": 5,
     "metadata": {},
     "output_type": "execute_result"
    }
   ],
   "source": [
    "x = df[df.epoch > df.epoch.max()-10].copy() # last 10 epochs\n",
    "#x = x.groupby(['epoch', 'encounter', 'csv', 'team']).sum()\n",
    "#x['frac_hp'] = x.final_hp / x.max_hp\n",
    "x = x.reset_index()\n",
    "#pn.qplot('max_hp', data=x, geom='histogram', fill='actor', binwidth=1) + pn.facet_wrap('actor')\n",
    "pn.qplot('final_hp', data=x, geom='histogram', fill='actor', binwidth=1) + pn.facet_wrap('actor')"
   ]
  },
  {
   "cell_type": "code",
   "execution_count": 18,
   "metadata": {
    "pycharm": {
     "name": "#%%\n"
    }
   },
   "outputs": [
    {
     "data": {
      "text/plain": "    epoch  encounter  round      actor          action     target  \\\n0       0          0      0   Goblin 3    Full Defense   Goblin 3   \n1       0          0      0  Fighter 1         Longbow   Goblin 3   \n2       0          0      0   Goblin 1  Small Scimitar  Fighter 1   \n3       0          0      0   Goblin 2    Full Defense   Goblin 2   \n4       0          0      1  Fighter 1         Longbow   Goblin 1   \n5       0          0      1   Goblin 1    Full Defense   Goblin 1   \n6       0          0      1   Goblin 2    Full Defense   Goblin 2   \n7       0          0      2  Fighter 1      Greatsword   Goblin 2   \n8       0          0      2   Goblin 1  Small Scimitar  Fighter 1   \n9       0          0      2   Goblin 2    Full Defense   Goblin 2   \n10      0          0      3  Fighter 1      Greatsword   Goblin 1   \n11      0          0      3   Goblin 2    Full Defense   Goblin 2   \n12      0          0      4  Fighter 1    Full Defense  Fighter 1   \n13      0          0      4   Goblin 2    Full Defense   Goblin 2   \n14      0          0      5  Fighter 1         Longbow   Goblin 2   \n15      0          0      5   Goblin 2  Small Scimitar  Fighter 1   \n16      0          0      6  Fighter 1    Full Defense  Fighter 1   \n17      0          0      6   Goblin 2  Small Scimitar  Fighter 1   \n18      0          0      7  Fighter 1    Full Defense  Fighter 1   \n19      0          0      7   Goblin 2  Small Scimitar  Fighter 1   \n\n    t_fullDefense  t_weakest  raw_hp  obs_hp                csv  \n0           False      False       0       0  actions_15780.csv  \n1            True      False     -19      -8  actions_15780.csv  \n2           False       True       0       0  actions_15780.csv  \n3           False      False       0       0  actions_15780.csv  \n4           False      False       0       0  actions_15780.csv  \n5           False      False       0       0  actions_15780.csv  \n6           False      False       0       0  actions_15780.csv  \n7            True       True       0       0  actions_15780.csv  \n8           False       True       0       0  actions_15780.csv  \n9           False      False       0       0  actions_15780.csv  \n10          False      False     -13     -11  actions_15780.csv  \n11          False      False       0       0  actions_15780.csv  \n12          False      False       0       0  actions_15780.csv  \n13          False      False       0       0  actions_15780.csv  \n14           True       True       0       0  actions_15780.csv  \n15          False       True       0       0  actions_15780.csv  \n16          False      False       0       0  actions_15780.csv  \n17           True       True       0       0  actions_15780.csv  \n18          False      False       0       0  actions_15780.csv  \n19           True       True       0       0  actions_15780.csv  ",
      "text/html": "<div>\n<style scoped>\n    .dataframe tbody tr th:only-of-type {\n        vertical-align: middle;\n    }\n\n    .dataframe tbody tr th {\n        vertical-align: top;\n    }\n\n    .dataframe thead th {\n        text-align: right;\n    }\n</style>\n<table border=\"1\" class=\"dataframe\">\n  <thead>\n    <tr style=\"text-align: right;\">\n      <th></th>\n      <th>epoch</th>\n      <th>encounter</th>\n      <th>round</th>\n      <th>actor</th>\n      <th>action</th>\n      <th>target</th>\n      <th>t_fullDefense</th>\n      <th>t_weakest</th>\n      <th>raw_hp</th>\n      <th>obs_hp</th>\n      <th>csv</th>\n    </tr>\n  </thead>\n  <tbody>\n    <tr>\n      <th>0</th>\n      <td>0</td>\n      <td>0</td>\n      <td>0</td>\n      <td>Goblin 3</td>\n      <td>Full Defense</td>\n      <td>Goblin 3</td>\n      <td>False</td>\n      <td>False</td>\n      <td>0</td>\n      <td>0</td>\n      <td>actions_15780.csv</td>\n    </tr>\n    <tr>\n      <th>1</th>\n      <td>0</td>\n      <td>0</td>\n      <td>0</td>\n      <td>Fighter 1</td>\n      <td>Longbow</td>\n      <td>Goblin 3</td>\n      <td>True</td>\n      <td>False</td>\n      <td>-19</td>\n      <td>-8</td>\n      <td>actions_15780.csv</td>\n    </tr>\n    <tr>\n      <th>2</th>\n      <td>0</td>\n      <td>0</td>\n      <td>0</td>\n      <td>Goblin 1</td>\n      <td>Small Scimitar</td>\n      <td>Fighter 1</td>\n      <td>False</td>\n      <td>True</td>\n      <td>0</td>\n      <td>0</td>\n      <td>actions_15780.csv</td>\n    </tr>\n    <tr>\n      <th>3</th>\n      <td>0</td>\n      <td>0</td>\n      <td>0</td>\n      <td>Goblin 2</td>\n      <td>Full Defense</td>\n      <td>Goblin 2</td>\n      <td>False</td>\n      <td>False</td>\n      <td>0</td>\n      <td>0</td>\n      <td>actions_15780.csv</td>\n    </tr>\n    <tr>\n      <th>4</th>\n      <td>0</td>\n      <td>0</td>\n      <td>1</td>\n      <td>Fighter 1</td>\n      <td>Longbow</td>\n      <td>Goblin 1</td>\n      <td>False</td>\n      <td>False</td>\n      <td>0</td>\n      <td>0</td>\n      <td>actions_15780.csv</td>\n    </tr>\n    <tr>\n      <th>5</th>\n      <td>0</td>\n      <td>0</td>\n      <td>1</td>\n      <td>Goblin 1</td>\n      <td>Full Defense</td>\n      <td>Goblin 1</td>\n      <td>False</td>\n      <td>False</td>\n      <td>0</td>\n      <td>0</td>\n      <td>actions_15780.csv</td>\n    </tr>\n    <tr>\n      <th>6</th>\n      <td>0</td>\n      <td>0</td>\n      <td>1</td>\n      <td>Goblin 2</td>\n      <td>Full Defense</td>\n      <td>Goblin 2</td>\n      <td>False</td>\n      <td>False</td>\n      <td>0</td>\n      <td>0</td>\n      <td>actions_15780.csv</td>\n    </tr>\n    <tr>\n      <th>7</th>\n      <td>0</td>\n      <td>0</td>\n      <td>2</td>\n      <td>Fighter 1</td>\n      <td>Greatsword</td>\n      <td>Goblin 2</td>\n      <td>True</td>\n      <td>True</td>\n      <td>0</td>\n      <td>0</td>\n      <td>actions_15780.csv</td>\n    </tr>\n    <tr>\n      <th>8</th>\n      <td>0</td>\n      <td>0</td>\n      <td>2</td>\n      <td>Goblin 1</td>\n      <td>Small Scimitar</td>\n      <td>Fighter 1</td>\n      <td>False</td>\n      <td>True</td>\n      <td>0</td>\n      <td>0</td>\n      <td>actions_15780.csv</td>\n    </tr>\n    <tr>\n      <th>9</th>\n      <td>0</td>\n      <td>0</td>\n      <td>2</td>\n      <td>Goblin 2</td>\n      <td>Full Defense</td>\n      <td>Goblin 2</td>\n      <td>False</td>\n      <td>False</td>\n      <td>0</td>\n      <td>0</td>\n      <td>actions_15780.csv</td>\n    </tr>\n    <tr>\n      <th>10</th>\n      <td>0</td>\n      <td>0</td>\n      <td>3</td>\n      <td>Fighter 1</td>\n      <td>Greatsword</td>\n      <td>Goblin 1</td>\n      <td>False</td>\n      <td>False</td>\n      <td>-13</td>\n      <td>-11</td>\n      <td>actions_15780.csv</td>\n    </tr>\n    <tr>\n      <th>11</th>\n      <td>0</td>\n      <td>0</td>\n      <td>3</td>\n      <td>Goblin 2</td>\n      <td>Full Defense</td>\n      <td>Goblin 2</td>\n      <td>False</td>\n      <td>False</td>\n      <td>0</td>\n      <td>0</td>\n      <td>actions_15780.csv</td>\n    </tr>\n    <tr>\n      <th>12</th>\n      <td>0</td>\n      <td>0</td>\n      <td>4</td>\n      <td>Fighter 1</td>\n      <td>Full Defense</td>\n      <td>Fighter 1</td>\n      <td>False</td>\n      <td>False</td>\n      <td>0</td>\n      <td>0</td>\n      <td>actions_15780.csv</td>\n    </tr>\n    <tr>\n      <th>13</th>\n      <td>0</td>\n      <td>0</td>\n      <td>4</td>\n      <td>Goblin 2</td>\n      <td>Full Defense</td>\n      <td>Goblin 2</td>\n      <td>False</td>\n      <td>False</td>\n      <td>0</td>\n      <td>0</td>\n      <td>actions_15780.csv</td>\n    </tr>\n    <tr>\n      <th>14</th>\n      <td>0</td>\n      <td>0</td>\n      <td>5</td>\n      <td>Fighter 1</td>\n      <td>Longbow</td>\n      <td>Goblin 2</td>\n      <td>True</td>\n      <td>True</td>\n      <td>0</td>\n      <td>0</td>\n      <td>actions_15780.csv</td>\n    </tr>\n    <tr>\n      <th>15</th>\n      <td>0</td>\n      <td>0</td>\n      <td>5</td>\n      <td>Goblin 2</td>\n      <td>Small Scimitar</td>\n      <td>Fighter 1</td>\n      <td>False</td>\n      <td>True</td>\n      <td>0</td>\n      <td>0</td>\n      <td>actions_15780.csv</td>\n    </tr>\n    <tr>\n      <th>16</th>\n      <td>0</td>\n      <td>0</td>\n      <td>6</td>\n      <td>Fighter 1</td>\n      <td>Full Defense</td>\n      <td>Fighter 1</td>\n      <td>False</td>\n      <td>False</td>\n      <td>0</td>\n      <td>0</td>\n      <td>actions_15780.csv</td>\n    </tr>\n    <tr>\n      <th>17</th>\n      <td>0</td>\n      <td>0</td>\n      <td>6</td>\n      <td>Goblin 2</td>\n      <td>Small Scimitar</td>\n      <td>Fighter 1</td>\n      <td>True</td>\n      <td>True</td>\n      <td>0</td>\n      <td>0</td>\n      <td>actions_15780.csv</td>\n    </tr>\n    <tr>\n      <th>18</th>\n      <td>0</td>\n      <td>0</td>\n      <td>7</td>\n      <td>Fighter 1</td>\n      <td>Full Defense</td>\n      <td>Fighter 1</td>\n      <td>False</td>\n      <td>False</td>\n      <td>0</td>\n      <td>0</td>\n      <td>actions_15780.csv</td>\n    </tr>\n    <tr>\n      <th>19</th>\n      <td>0</td>\n      <td>0</td>\n      <td>7</td>\n      <td>Goblin 2</td>\n      <td>Small Scimitar</td>\n      <td>Fighter 1</td>\n      <td>True</td>\n      <td>True</td>\n      <td>0</td>\n      <td>0</td>\n      <td>actions_15780.csv</td>\n    </tr>\n  </tbody>\n</table>\n</div>"
     },
     "execution_count": 18,
     "metadata": {},
     "output_type": "execute_result"
    }
   ],
   "source": [
    "def load(p):\n",
    "    df = pd.read_csv(p)\n",
    "    df['csv'] = str(p)\n",
    "    return df\n",
    "\n",
    "df = pd.concat([load(x) for x in Path().glob(\"actions_*.csv\") if x.stat().st_size > 1000], ignore_index=True)\n",
    "df.head(20)"
   ]
  },
  {
   "cell_type": "markdown",
   "metadata": {
    "pycharm": {
     "name": "#%% md\n"
    }
   },
   "source": [
    "How long do battles typically last, as a function of epoch?"
   ]
  },
  {
   "cell_type": "code",
   "execution_count": 7,
   "metadata": {
    "pycharm": {
     "name": "#%%\n"
    }
   },
   "outputs": [
    {
     "data": {
      "text/plain": "[<matplotlib.lines.Line2D at 0x2932ddab940>]"
     },
     "execution_count": 7,
     "metadata": {},
     "output_type": "execute_result"
    },
    {
     "data": {
      "text/plain": "<Figure size 640x480 with 1 Axes>",
      "image/png": "[encoded data removed]"
     },
     "metadata": {},
     "output_type": "display_data"
    }
   ],
   "source": [
    "x = df.groupby(['epoch', 'encounter', 'csv'])['round'].max().groupby('epoch')\n",
    "y = x.quantile(0.1)+1; plt.plot(y.index, y)\n",
    "y = x.quantile(0.5)+1; plt.plot(y.index, y)\n",
    "y = x.quantile(0.9)+1; plt.plot(y.index, y)"
   ]
  },
  {
   "cell_type": "markdown",
   "metadata": {
    "pycharm": {
     "name": "#%% md\n"
    }
   },
   "source": [
    "How often do we choose each possible action, as a function of time?"
   ]
  },
  {
   "cell_type": "code",
   "execution_count": 8,
   "metadata": {
    "pycharm": {
     "name": "#%%\n"
    }
   },
   "outputs": [
    {
     "data": {
      "text/plain": "<Figure size 640x480 with 4 Axes>",
      "image/png": "[encoded data removed]"
     },
     "metadata": {},
     "output_type": "display_data"
    },
    {
     "data": {
      "text/plain": "<ggplot: (176947067070)>"
     },
     "execution_count": 8,
     "metadata": {},
     "output_type": "execute_result"
    }
   ],
   "source": [
    "pn.qplot('epoch', data=df, fill='action', geom='histogram', binwidth=1) + pn.facet_wrap('actor')"
   ]
  },
  {
   "cell_type": "markdown",
   "metadata": {
    "pycharm": {
     "name": "#%% md\n"
    }
   },
   "source": [
    "Close-up from final epoch:"
   ]
  },
  {
   "cell_type": "code",
   "execution_count": 9,
   "metadata": {
    "pycharm": {
     "name": "#%%\n"
    }
   },
   "outputs": [
    {
     "data": {
      "text/plain": "<Figure size 640x480 with 4 Axes>",
      "image/png": "[encoded data removed]"
     },
     "metadata": {},
     "output_type": "display_data"
    },
    {
     "data": {
      "text/plain": "<ggplot: (176946980030)>"
     },
     "execution_count": 9,
     "metadata": {},
     "output_type": "execute_result"
    }
   ],
   "source": [
    "x = df[df.epoch == df.epoch.max()]\n",
    "pn.qplot('action', data=x, fill='action', geom='histogram', binwidth=1) + pn.facet_wrap('actor') + pn.theme(axis_text_x=pn.element_text(rotation=90))"
   ]
  },
  {
   "cell_type": "markdown",
   "metadata": {
    "pycharm": {
     "name": "#%% md\n"
    }
   },
   "source": [
    "Do we use our healing potions more effectively as time goes on?"
   ]
  },
  {
   "cell_type": "code",
   "execution_count": 10,
   "metadata": {
    "pycharm": {
     "name": "#%%\n"
    }
   },
   "outputs": [
    {
     "data": {
      "text/plain": "[<matplotlib.lines.Line2D at 0x2932e41c8b0>]"
     },
     "execution_count": 10,
     "metadata": {},
     "output_type": "execute_result"
    },
    {
     "data": {
      "text/plain": "<Figure size 640x480 with 1 Axes>",
      "image/png": "[encoded data removed]"
     },
     "metadata": {},
     "output_type": "display_data"
    }
   ],
   "source": [
    "# Mean effect?\n",
    "x = df.query('raw_hp > 0').groupby('epoch')['obs_hp'].mean()\n",
    "plt.plot(x.index, x)\n",
    "# How often do we use it when we're uninjured?  Not often, it's forbidden.\n",
    "# x = df.query('raw_hp > 0 and obs_hp == 0').groupby('epoch').count()\n",
    "# plt.plot(x.index, x.obs_hp)"
   ]
  },
  {
   "cell_type": "markdown",
   "metadata": {
    "pycharm": {
     "name": "#%% md\n"
    }
   },
   "source": [
    "Which enemy does each character attack?"
   ]
  },
  {
   "cell_type": "code",
   "execution_count": 11,
   "metadata": {
    "pycharm": {
     "name": "#%%\n"
    }
   },
   "outputs": [
    {
     "data": {
      "text/plain": "<Figure size 640x480 with 4 Axes>",
      "image/png": "[encoded data removed]"
     },
     "metadata": {},
     "output_type": "display_data"
    },
    {
     "data": {
      "text/plain": "<ggplot: (176947455651)>"
     },
     "execution_count": 11,
     "metadata": {},
     "output_type": "execute_result"
    }
   ],
   "source": [
    "x = df.query('raw_hp < 0')\n",
    "pn.qplot('epoch', data=x, fill='target', geom='histogram', binwidth=1) + pn.facet_wrap('actor')"
   ]
  },
  {
   "cell_type": "markdown",
   "metadata": {
    "pycharm": {
     "name": "#%% md\n"
    }
   },
   "source": [
    "How often do we target the weakest enemy?"
   ]
  },
  {
   "cell_type": "code",
   "execution_count": 12,
   "metadata": {
    "pycharm": {
     "name": "#%%\n"
    }
   },
   "outputs": [
    {
     "data": {
      "text/plain": "<Figure size 640x480 with 4 Axes>",
      "image/png": "[encoded data removed]"
     },
     "metadata": {},
     "output_type": "display_data"
    },
    {
     "data": {
      "text/plain": "<ggplot: (176946951431)>"
     },
     "execution_count": 12,
     "metadata": {},
     "output_type": "execute_result"
    }
   ],
   "source": [
    "x = df.query('raw_hp < 0')\n",
    "pn.qplot('epoch', data=x, fill='t_weakest', geom='histogram', binwidth=1) + pn.facet_wrap('actor')"
   ]
  },
  {
   "cell_type": "markdown",
   "metadata": {
    "pycharm": {
     "name": "#%% md\n"
    }
   },
   "source": [
    "How often do we switch targets within an encounter?"
   ]
  },
  {
   "cell_type": "code",
   "execution_count": 13,
   "metadata": {
    "pycharm": {
     "name": "#%%\n"
    }
   },
   "outputs": [
    {
     "data": {
      "text/plain": "Empty DataFrame\nColumns: [epoch, encounter, round, actor, action, target, t_fullDefense, t_weakest, raw_hp, obs_hp, csv, tgt, change_tgt]\nIndex: []",
      "text/html": "<div>\n<style scoped>\n    .dataframe tbody tr th:only-of-type {\n        vertical-align: middle;\n    }\n\n    .dataframe tbody tr th {\n        vertical-align: top;\n    }\n\n    .dataframe thead th {\n        text-align: right;\n    }\n</style>\n<table border=\"1\" class=\"dataframe\">\n  <thead>\n    <tr style=\"text-align: right;\">\n      <th></th>\n      <th>epoch</th>\n      <th>encounter</th>\n      <th>round</th>\n      <th>actor</th>\n      <th>action</th>\n      <th>target</th>\n      <th>t_fullDefense</th>\n      <th>t_weakest</th>\n      <th>raw_hp</th>\n      <th>obs_hp</th>\n      <th>csv</th>\n      <th>tgt</th>\n      <th>change_tgt</th>\n    </tr>\n  </thead>\n  <tbody>\n  </tbody>\n</table>\n</div>"
     },
     "execution_count": 13,
     "metadata": {},
     "output_type": "execute_result"
    }
   ],
   "source": [
    "x = df.query('actor == \"Hero\" and action == \"long sword\"').copy()\n",
    "#x['round2'] = x.groupby(['epoch', 'encounter', 'csv'])['round'].rank().astype('int')\n",
    "# Convert target to numerical values\n",
    "x['tgt'] = pd.Categorical(x.target).codes\n",
    "# Detect changes in target\n",
    "x['change_tgt'] = (x.groupby(['epoch', 'encounter', 'csv'])['tgt'].diff() != 0)\n",
    "x.head()\n",
    "#dir(x.tgt.cat)"
   ]
  },
  {
   "cell_type": "code",
   "execution_count": 14,
   "metadata": {
    "pycharm": {
     "name": "#%%\n"
    }
   },
   "outputs": [
    {
     "data": {
      "text/plain": "[<matplotlib.lines.Line2D at 0x2932eb6bdf0>]"
     },
     "execution_count": 14,
     "metadata": {},
     "output_type": "execute_result"
    },
    {
     "data": {
      "text/plain": "<Figure size 640x480 with 1 Axes>",
      "image/png": "[encoded data removed]"
     },
     "metadata": {},
     "output_type": "display_data"
    }
   ],
   "source": [
    "# Minimum is 2 (for a win):  initial attack, and switch to second target\n",
    "y = x.groupby('epoch')['change_tgt'].sum() / 1000\n",
    "plt.plot(y.index, y)"
   ]
  },
  {
   "cell_type": "markdown",
   "metadata": {
    "pycharm": {
     "name": "#%% md\n"
    }
   },
   "source": [
    "Which enemy do we attack first?"
   ]
  },
  {
   "cell_type": "code",
   "execution_count": 15,
   "metadata": {
    "pycharm": {
     "name": "#%%\n"
    }
   },
   "outputs": [
    {
     "data": {
      "text/plain": "[<matplotlib.lines.Line2D at 0x2932ebd5970>]"
     },
     "execution_count": 15,
     "metadata": {},
     "output_type": "execute_result"
    },
    {
     "data": {
      "text/plain": "<Figure size 640x480 with 1 Axes>",
      "image/png": "[encoded data removed]"
     },
     "metadata": {},
     "output_type": "display_data"
    }
   ],
   "source": [
    "y = x.query('round == 0').groupby('epoch')['tgt'].mean()\n",
    "plt.plot(y.index, y)"
   ]
  },
  {
   "cell_type": "markdown",
   "metadata": {
    "pycharm": {
     "name": "#%% md\n"
    }
   },
   "source": [
    "Look at a random encounter from the final epoch of training..."
   ]
  },
  {
   "cell_type": "code",
   "execution_count": 16,
   "metadata": {
    "pycharm": {
     "name": "#%%\n"
    }
   },
   "outputs": [
    {
     "data": {
      "text/plain": "         epoch  encounter  round      actor          action     target  \\\n1855113     99        181      0   Goblin 3  Small Scimitar  Fighter 1   \n1855114     99        181      0   Goblin 1  Small Scimitar  Fighter 1   \n1855115     99        181      0   Goblin 2    Full Defense   Goblin 2   \n1855116     99        181      0  Fighter 1      Greatsword   Goblin 1   \n1855117     99        181      1   Goblin 3  Small Scimitar  Fighter 1   \n1855118     99        181      1   Goblin 1  Small Scimitar  Fighter 1   \n1855119     99        181      1   Goblin 2  Small Scimitar  Fighter 1   \n1855120     99        181      1  Fighter 1      Greatsword   Goblin 1   \n1855121     99        181      2   Goblin 3  Small Scimitar  Fighter 1   \n1855122     99        181      2   Goblin 1  Small Scimitar  Fighter 1   \n1855123     99        181      2   Goblin 2  Small Scimitar  Fighter 1   \n1855124     99        181      2  Fighter 1      Greatsword   Goblin 1   \n1855125     99        181      3   Goblin 3  Small Scimitar  Fighter 1   \n1855126     99        181      3   Goblin 1  Small Scimitar  Fighter 1   \n1855127     99        181      3   Goblin 2  Small Scimitar  Fighter 1   \n1855128     99        181      3  Fighter 1      Greatsword   Goblin 1   \n1855129     99        181      4   Goblin 3  Small Scimitar  Fighter 1   \n1855130     99        181      4   Goblin 1  Small Scimitar  Fighter 1   \n1855131     99        181      4   Goblin 2  Small Scimitar  Fighter 1   \n1855132     99        181      4  Fighter 1      Greatsword   Goblin 1   \n1855133     99        181      5   Goblin 3  Small Scimitar  Fighter 1   \n1855134     99        181      5   Goblin 2  Small Scimitar  Fighter 1   \n1855135     99        181      5  Fighter 1      Greatsword   Goblin 2   \n1855136     99        181      6   Goblin 3  Small Scimitar  Fighter 1   \n1855137     99        181      6  Fighter 1      Greatsword   Goblin 3   \n\n         t_fullDefense  t_weakest  raw_hp  obs_hp               csv  \n1855113          False       True       0       0  actions_2052.csv  \n1855114          False       True       0       0  actions_2052.csv  \n1855115          False      False       0       0  actions_2052.csv  \n1855116          False      False       0       0  actions_2052.csv  \n1855117          False       True       0       0  actions_2052.csv  \n1855118          False       True       0       0  actions_2052.csv  \n1855119          False       True       0       0  actions_2052.csv  \n1855120          False      False       0       0  actions_2052.csv  \n1855121          False       True       0       0  actions_2052.csv  \n1855122          False       True       0       0  actions_2052.csv  \n1855123          False       True       0       0  actions_2052.csv  \n1855124          False      False       0       0  actions_2052.csv  \n1855125          False       True       0       0  actions_2052.csv  \n1855126          False       True       0       0  actions_2052.csv  \n1855127          False       True       0       0  actions_2052.csv  \n1855128          False      False      -5      -5  actions_2052.csv  \n1855129          False       True       0       0  actions_2052.csv  \n1855130          False       True       0       0  actions_2052.csv  \n1855131          False       True       0       0  actions_2052.csv  \n1855132          False       True     -27      -6  actions_2052.csv  \n1855133          False       True       0       0  actions_2052.csv  \n1855134          False       True       0       0  actions_2052.csv  \n1855135          False       True      -7      -7  actions_2052.csv  \n1855136          False       True       0       0  actions_2052.csv  \n1855137          False       True     -16      -8  actions_2052.csv  ",
      "text/html": "<div>\n<style scoped>\n    .dataframe tbody tr th:only-of-type {\n        vertical-align: middle;\n    }\n\n    .dataframe tbody tr th {\n        vertical-align: top;\n    }\n\n    .dataframe thead th {\n        text-align: right;\n    }\n</style>\n<table border=\"1\" class=\"dataframe\">\n  <thead>\n    <tr style=\"text-align: right;\">\n      <th></th>\n      <th>epoch</th>\n      <th>encounter</th>\n      <th>round</th>\n      <th>actor</th>\n      <th>action</th>\n      <th>target</th>\n      <th>t_fullDefense</th>\n      <th>t_weakest</th>\n      <th>raw_hp</th>\n      <th>obs_hp</th>\n      <th>csv</th>\n    </tr>\n  </thead>\n  <tbody>\n    <tr>\n      <th>1855113</th>\n      <td>99</td>\n      <td>181</td>\n      <td>0</td>\n      <td>Goblin 3</td>\n      <td>Small Scimitar</td>\n      <td>Fighter 1</td>\n      <td>False</td>\n      <td>True</td>\n      <td>0</td>\n      <td>0</td>\n      <td>actions_2052.csv</td>\n    </tr>\n    <tr>\n      <th>1855114</th>\n      <td>99</td>\n      <td>181</td>\n      <td>0</td>\n      <td>Goblin 1</td>\n      <td>Small Scimitar</td>\n      <td>Fighter 1</td>\n      <td>False</td>\n      <td>True</td>\n      <td>0</td>\n      <td>0</td>\n      <td>actions_2052.csv</td>\n    </tr>\n    <tr>\n      <th>1855115</th>\n      <td>99</td>\n      <td>181</td>\n      <td>0</td>\n      <td>Goblin 2</td>\n      <td>Full Defense</td>\n      <td>Goblin 2</td>\n      <td>False</td>\n      <td>False</td>\n      <td>0</td>\n      <td>0</td>\n      <td>actions_2052.csv</td>\n    </tr>\n    <tr>\n      <th>1855116</th>\n      <td>99</td>\n      <td>181</td>\n      <td>0</td>\n      <td>Fighter 1</td>\n      <td>Greatsword</td>\n      <td>Goblin 1</td>\n      <td>False</td>\n      <td>False</td>\n      <td>0</td>\n      <td>0</td>\n      <td>actions_2052.csv</td>\n    </tr>\n    <tr>\n      <th>1855117</th>\n      <td>99</td>\n      <td>181</td>\n      <td>1</td>\n      <td>Goblin 3</td>\n      <td>Small Scimitar</td>\n      <td>Fighter 1</td>\n      <td>False</td>\n      <td>True</td>\n      <td>0</td>\n      <td>0</td>\n      <td>actions_2052.csv</td>\n    </tr>\n    <tr>\n      <th>1855118</th>\n      <td>99</td>\n      <td>181</td>\n      <td>1</td>\n      <td>Goblin 1</td>\n      <td>Small Scimitar</td>\n      <td>Fighter 1</td>\n      <td>False</td>\n      <td>True</td>\n      <td>0</td>\n      <td>0</td>\n      <td>actions_2052.csv</td>\n    </tr>\n    <tr>\n      <th>1855119</th>\n      <td>99</td>\n      <td>181</td>\n      <td>1</td>\n      <td>Goblin 2</td>\n      <td>Small Scimitar</td>\n      <td>Fighter 1</td>\n      <td>False</td>\n      <td>True</td>\n      <td>0</td>\n      <td>0</td>\n      <td>actions_2052.csv</td>\n    </tr>\n    <tr>\n      <th>1855120</th>\n      <td>99</td>\n      <td>181</td>\n      <td>1</td>\n      <td>Fighter 1</td>\n      <td>Greatsword</td>\n      <td>Goblin 1</td>\n      <td>False</td>\n      <td>False</td>\n      <td>0</td>\n      <td>0</td>\n      <td>actions_2052.csv</td>\n    </tr>\n    <tr>\n      <th>1855121</th>\n      <td>99</td>\n      <td>181</td>\n      <td>2</td>\n      <td>Goblin 3</td>\n      <td>Small Scimitar</td>\n      <td>Fighter 1</td>\n      <td>False</td>\n      <td>True</td>\n      <td>0</td>\n      <td>0</td>\n      <td>actions_2052.csv</td>\n    </tr>\n    <tr>\n      <th>1855122</th>\n      <td>99</td>\n      <td>181</td>\n      <td>2</td>\n      <td>Goblin 1</td>\n      <td>Small Scimitar</td>\n      <td>Fighter 1</td>\n      <td>False</td>\n      <td>True</td>\n      <td>0</td>\n      <td>0</td>\n      <td>actions_2052.csv</td>\n    </tr>\n    <tr>\n      <th>1855123</th>\n      <td>99</td>\n      <td>181</td>\n      <td>2</td>\n      <td>Goblin 2</td>\n      <td>Small Scimitar</td>\n      <td>Fighter 1</td>\n      <td>False</td>\n      <td>True</td>\n      <td>0</td>\n      <td>0</td>\n      <td>actions_2052.csv</td>\n    </tr>\n    <tr>\n      <th>1855124</th>\n      <td>99</td>\n      <td>181</td>\n      <td>2</td>\n      <td>Fighter 1</td>\n      <td>Greatsword</td>\n      <td>Goblin 1</td>\n      <td>False</td>\n      <td>False</td>\n      <td>0</td>\n      <td>0</td>\n      <td>actions_2052.csv</td>\n    </tr>\n    <tr>\n      <th>1855125</th>\n      <td>99</td>\n      <td>181</td>\n      <td>3</td>\n      <td>Goblin 3</td>\n      <td>Small Scimitar</td>\n      <td>Fighter 1</td>\n      <td>False</td>\n      <td>True</td>\n      <td>0</td>\n      <td>0</td>\n      <td>actions_2052.csv</td>\n    </tr>\n    <tr>\n      <th>1855126</th>\n      <td>99</td>\n      <td>181</td>\n      <td>3</td>\n      <td>Goblin 1</td>\n      <td>Small Scimitar</td>\n      <td>Fighter 1</td>\n      <td>False</td>\n      <td>True</td>\n      <td>0</td>\n      <td>0</td>\n      <td>actions_2052.csv</td>\n    </tr>\n    <tr>\n      <th>1855127</th>\n      <td>99</td>\n      <td>181</td>\n      <td>3</td>\n      <td>Goblin 2</td>\n      <td>Small Scimitar</td>\n      <td>Fighter 1</td>\n      <td>False</td>\n      <td>True</td>\n      <td>0</td>\n      <td>0</td>\n      <td>actions_2052.csv</td>\n    </tr>\n    <tr>\n      <th>1855128</th>\n      <td>99</td>\n      <td>181</td>\n      <td>3</td>\n      <td>Fighter 1</td>\n      <td>Greatsword</td>\n      <td>Goblin 1</td>\n      <td>False</td>\n      <td>False</td>\n      <td>-5</td>\n      <td>-5</td>\n      <td>actions_2052.csv</td>\n    </tr>\n    <tr>\n      <th>1855129</th>\n      <td>99</td>\n      <td>181</td>\n      <td>4</td>\n      <td>Goblin 3</td>\n      <td>Small Scimitar</td>\n      <td>Fighter 1</td>\n      <td>False</td>\n      <td>True</td>\n      <td>0</td>\n      <td>0</td>\n      <td>actions_2052.csv</td>\n    </tr>\n    <tr>\n      <th>1855130</th>\n      <td>99</td>\n      <td>181</td>\n      <td>4</td>\n      <td>Goblin 1</td>\n      <td>Small Scimitar</td>\n      <td>Fighter 1</td>\n      <td>False</td>\n      <td>True</td>\n      <td>0</td>\n      <td>0</td>\n      <td>actions_2052.csv</td>\n    </tr>\n    <tr>\n      <th>1855131</th>\n      <td>99</td>\n      <td>181</td>\n      <td>4</td>\n      <td>Goblin 2</td>\n      <td>Small Scimitar</td>\n      <td>Fighter 1</td>\n      <td>False</td>\n      <td>True</td>\n      <td>0</td>\n      <td>0</td>\n      <td>actions_2052.csv</td>\n    </tr>\n    <tr>\n      <th>1855132</th>\n      <td>99</td>\n      <td>181</td>\n      <td>4</td>\n      <td>Fighter 1</td>\n      <td>Greatsword</td>\n      <td>Goblin 1</td>\n      <td>False</td>\n      <td>True</td>\n      <td>-27</td>\n      <td>-6</td>\n      <td>actions_2052.csv</td>\n    </tr>\n    <tr>\n      <th>1855133</th>\n      <td>99</td>\n      <td>181</td>\n      <td>5</td>\n      <td>Goblin 3</td>\n      <td>Small Scimitar</td>\n      <td>Fighter 1</td>\n      <td>False</td>\n      <td>True</td>\n      <td>0</td>\n      <td>0</td>\n      <td>actions_2052.csv</td>\n    </tr>\n    <tr>\n      <th>1855134</th>\n      <td>99</td>\n      <td>181</td>\n      <td>5</td>\n      <td>Goblin 2</td>\n      <td>Small Scimitar</td>\n      <td>Fighter 1</td>\n      <td>False</td>\n      <td>True</td>\n      <td>0</td>\n      <td>0</td>\n      <td>actions_2052.csv</td>\n    </tr>\n    <tr>\n      <th>1855135</th>\n      <td>99</td>\n      <td>181</td>\n      <td>5</td>\n      <td>Fighter 1</td>\n      <td>Greatsword</td>\n      <td>Goblin 2</td>\n      <td>False</td>\n      <td>True</td>\n      <td>-7</td>\n      <td>-7</td>\n      <td>actions_2052.csv</td>\n    </tr>\n    <tr>\n      <th>1855136</th>\n      <td>99</td>\n      <td>181</td>\n      <td>6</td>\n      <td>Goblin 3</td>\n      <td>Small Scimitar</td>\n      <td>Fighter 1</td>\n      <td>False</td>\n      <td>True</td>\n      <td>0</td>\n      <td>0</td>\n      <td>actions_2052.csv</td>\n    </tr>\n    <tr>\n      <th>1855137</th>\n      <td>99</td>\n      <td>181</td>\n      <td>6</td>\n      <td>Fighter 1</td>\n      <td>Greatsword</td>\n      <td>Goblin 3</td>\n      <td>False</td>\n      <td>True</td>\n      <td>-16</td>\n      <td>-8</td>\n      <td>actions_2052.csv</td>\n    </tr>\n  </tbody>\n</table>\n</div>"
     },
     "execution_count": 16,
     "metadata": {},
     "output_type": "execute_result"
    }
   ],
   "source": [
    "x = df[(df.epoch == df.epoch.max()) & (df.csv == rnd.choice(df.csv))]\n",
    "x = x[x.encounter == rnd.choice(x.encounter)]\n",
    "x"
   ]
  },
  {
   "cell_type": "code",
   "execution_count": 17,
   "metadata": {
    "pycharm": {
     "name": "#%%\n"
    }
   },
   "outputs": [
    {
     "data": {
      "text/plain": "<Figure size 640x480 with 1 Axes>",
      "image/png": "[encoded data removed]"
     },
     "metadata": {},
     "output_type": "display_data"
    },
    {
     "data": {
      "text/plain": "<ggplot: (176947991179)>"
     },
     "execution_count": 17,
     "metadata": {},
     "output_type": "execute_result"
    }
   ],
   "source": [
    "# Wins and losses at 2nd level:  2 fighters and 2 wizards vs. X goblins\n",
    "pc_win_rate = {\n",
    "    5: 990/1000, # 1:30\n",
    "    6: 941/1000, # 1:45\n",
    "    7: 798/1000, # 2:10\n",
    "    8: 507/1000,\n",
    "    9: 276/1000, # 3:20\n",
    "    10: 144/1000, # 4 hours to train\n",
    "}\n",
    "#plt.plot(pc_win_rate.keys(), pc_win_rate.values())\n",
    "pn.qplot(list(pc_win_rate.keys()), list(pc_win_rate.values()), geom='line', xlab='# of goblins', ylab=\"PCs' win rate\")"
   ]
  },
  {
   "cell_type": "code",
   "execution_count": 17,
   "metadata": {
    "pycharm": {
     "name": "#%%\n"
    }
   },
   "outputs": [],
   "source": []
  }
 ],
 "metadata": {
  "kernelspec": {
   "display_name": "Python 3",
   "language": "python",
   "name": "python3"
  },
  "language_info": {
   "codemirror_mode": {
    "name": "ipython",
    "version": 3
   },
   "file_extension": ".py",
   "mimetype": "text/x-python",
   "name": "python",
   "nbconvert_exporter": "python",
   "pygments_lexer": "ipython3",
   "version": "3.8.3"
  }
 },
 "nbformat": 4,
 "nbformat_minor": 4
}